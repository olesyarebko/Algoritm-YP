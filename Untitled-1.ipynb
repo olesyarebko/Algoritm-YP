{
 "cells": [
  {
   "cell_type": "markdown",
   "metadata": {},
   "source": [
    "Python: Multi-line строки"
   ]
  },
  {
   "cell_type": "code",
   "execution_count": null,
   "metadata": {},
   "outputs": [],
   "source": [
    "stark = 'Arya'\n",
    "\n",
    "# BEGIN (write your solution here)\n",
    "print(f'Do you want to eat, {stark}?')"
   ]
  },
  {
   "cell_type": "code",
   "execution_count": 6,
   "metadata": {},
   "outputs": [
    {
     "name": "stdout",
     "output_type": "stream",
     "text": [
      "Lannister, Targaryen, Baratheon, Stark, Tyrell...\n",
      "they're all just spokes on a wheel.\n",
      "This one's on top, then that one's on top, and on and on it spins,\n",
      "crushing those on the ground. \n"
     ]
    }
   ],
   "source": [
    "l = 'Lannister'\n",
    "\n",
    "print(f'''{l}, Targaryen, Baratheon, Stark, Tyrell...\n",
    "they're all just spokes on a wheel.\n",
    "This one's on top, then that one's on top, and on and on it spins,\n",
    "crushing those on the ground. ''')"
   ]
  }
 ],
 "metadata": {
  "kernelspec": {
   "display_name": "Python 3.10.6 64-bit",
   "language": "python",
   "name": "python3"
  },
  "language_info": {
   "codemirror_mode": {
    "name": "ipython",
    "version": 3
   },
   "file_extension": ".py",
   "mimetype": "text/x-python",
   "name": "python",
   "nbconvert_exporter": "python",
   "pygments_lexer": "ipython3",
   "version": "3.10.6"
  },
  "orig_nbformat": 4,
  "vscode": {
   "interpreter": {
    "hash": "fb4569285eef3a3450cb62085a5b1e0da4bce0af555edc33dcf29baf3acc1368"
   }
  }
 },
 "nbformat": 4,
 "nbformat_minor": 2
}
